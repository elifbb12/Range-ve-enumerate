{
 "cells": [
  {
   "cell_type": "code",
   "execution_count": 2,
   "metadata": {},
   "outputs": [
    {
     "name": "stdout",
     "output_type": "stream",
     "text": [
      "('tr', 1)\n",
      "('fr', 2)\n",
      "('dm', 3)\n"
     ]
    }
   ],
   "source": [
    "ulkeler = [ \"tr\", \"fr\" , \"dm\"]\n",
    "siralamalar = range(1,4)\n",
    "for ulke in  zip(ulkeler ,siralamalar):\n",
    "    print(ulke)\n",
    "    #birleştirme amaçlı kullanılır.\n",
    "    #zip'de listelerin uzunluklarinin ayni olmasina gerek yok, uzunluklar farkli ise, liste sayisi az olana gore zipler.\n"
   ]
  }
 ],
 "metadata": {
  "kernelspec": {
   "display_name": "Python 3",
   "language": "python",
   "name": "python3"
  },
  "language_info": {
   "codemirror_mode": {
    "name": "ipython",
    "version": 3
   },
   "file_extension": ".py",
   "mimetype": "text/x-python",
   "name": "python",
   "nbconvert_exporter": "python",
   "pygments_lexer": "ipython3",
   "version": "3.8.3"
  }
 },
 "nbformat": 4,
 "nbformat_minor": 4
}
